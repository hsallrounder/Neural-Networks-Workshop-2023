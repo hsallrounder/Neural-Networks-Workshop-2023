{
  "cells": [
    {
      "cell_type": "markdown",
      "metadata": {
        "id": "view-in-github",
        "colab_type": "text"
      },
      "source": [
        "<a href=\"https://colab.research.google.com/github/hsallrounder/Neural-Networks-Workshop-2023/blob/main/RBF_Neural_Networks_Workshop.ipynb\" target=\"_parent\"><img src=\"https://colab.research.google.com/assets/colab-badge.svg\" alt=\"Open In Colab\"/></a>"
      ]
    },
    {
      "cell_type": "code",
      "execution_count": 1,
      "metadata": {
        "id": "Fels-uLB_BXd"
      },
      "outputs": [],
      "source": [
        "import numpy as np\n",
        "\n",
        "\n",
        "def get_distance(x1, x2):\n",
        "    sum = 0\n",
        "    for i in range(len(x1)):\n",
        "        sum += (x1[i] - x2[i]) ** 2\n",
        "    return np.sqrt(sum)\n",
        "\n",
        "\n",
        "def kmeans(X, k, max_iters):\n",
        "  \n",
        "    centroids = X[np.random.choice(range(len(X)), k, replace=False)]\n",
        "\n",
        "    converged = False\n",
        "    \n",
        "    current_iter = 0\n",
        "\n",
        "    while (not converged) and (current_iter < max_iters):\n",
        "\n",
        "        cluster_list = [[] for i in range(len(centroids))]\n",
        "\n",
        "        for x in X:  # Go through each data point\n",
        "            distances_list = []\n",
        "            for c in centroids:\n",
        "                distances_list.append(get_distance(c, x))\n",
        "            cluster_list[int(np.argmin(distances_list))].append(x)\n",
        "\n",
        "        cluster_list = list((filter(None, cluster_list)))\n",
        "\n",
        "        prev_centroids = centroids.copy()\n",
        "\n",
        "        centroids = []\n",
        "\n",
        "        for j in range(len(cluster_list)):\n",
        "            centroids.append(np.mean(cluster_list[j], axis=0))\n",
        "\n",
        "        pattern = np.abs(np.sum(prev_centroids) - np.sum(centroids))\n",
        "\n",
        "        print('K-MEANS: ', int(pattern))\n",
        "\n",
        "        converged = (pattern == 0)\n",
        "\n",
        "        current_iter += 1\n",
        "\n",
        "    return np.array(centroids), [np.std(x) for x in cluster_list]"
      ]
    },
    {
      "cell_type": "code",
      "execution_count": 2,
      "metadata": {
        "id": "x9VplJqU_FBv"
      },
      "outputs": [],
      "source": [
        "class RBF:\n",
        "\n",
        "    def __init__(self, X, y, tX, ty, num_of_classes,\n",
        "                 k, std_from_clusters=True):\n",
        "        self.X = X\n",
        "        self.y = y\n",
        "\n",
        "        self.tX = tX\n",
        "        self.ty = ty\n",
        "\n",
        "        self.number_of_classes = num_of_classes\n",
        "        self.k = k\n",
        "        self.std_from_clusters = std_from_clusters\n",
        "\n",
        "    def convert_to_one_hot(self, x, num_of_classes):\n",
        "        arr = np.zeros((len(x), num_of_classes))\n",
        "        for i in range(len(x)):\n",
        "            c = int(x[i])\n",
        "            arr[i][c] = 1\n",
        "        return arr\n",
        "\n",
        "    def rbf(self, x, c, s):\n",
        "        distance = get_distance(x, c)\n",
        "        return 1 / np.exp(-distance / s ** 2)\n",
        "\n",
        "    def rbf_list(self, X, centroids, std_list):\n",
        "        RBF_list = []\n",
        "        for x in X:\n",
        "            RBF_list.append([self.rbf(x, c, s) for (c, s) in zip(centroids, std_list)])\n",
        "        return np.array(RBF_list)\n",
        "    \n",
        "    def fit(self):\n",
        "\n",
        "      self.centroids, self.std_list = kmeans(self.X, self.k, max_iters=1000)\n",
        "\n",
        "      if not self.std_from_clusters:\n",
        "          dMax = np.max([get_distance(c1, c2) for c1 in self.centroids for c2 in self.centroids])\n",
        "          self.std_list = np.repeat(dMax / np.sqrt(2 * self.k), self.k)\n",
        "\n",
        "      RBF_X = self.rbf_list(self.X, self.centroids, self.std_list)\n",
        "\n",
        "      self.w = np.linalg.pinv(RBF_X.T @ RBF_X) @ RBF_X.T @ self.convert_to_one_hot(self.y, self.number_of_classes)\n",
        "\n",
        "      RBF_list_tst = self.rbf_list(self.tX, self.centroids, self.std_list)\n",
        "\n",
        "      self.pred_ty = RBF_list_tst @ self.w\n",
        "\n",
        "      self.pred_ty = np.array([np.argmax(x) for x in self.pred_ty])\n",
        "\n",
        "      diff = self.pred_ty - self.ty\n",
        "\n",
        "      print('Accuracy: ', len(np.where(diff == 0)[0]) / len(diff))"
      ]
    },
    {
      "cell_type": "code",
      "source": [
        "from google.colab import drive\n",
        "drive.mount('/content/drive')"
      ],
      "metadata": {
        "colab": {
          "base_uri": "https://localhost:8080/"
        },
        "id": "LXRfanEEDq7b",
        "outputId": "7a22ca23-0a1f-4e63-e96f-f65cd6398739"
      },
      "execution_count": 3,
      "outputs": [
        {
          "output_type": "stream",
          "name": "stdout",
          "text": [
            "Mounted at /content/drive\n"
          ]
        }
      ]
    },
    {
      "cell_type": "code",
      "execution_count": 4,
      "metadata": {
        "colab": {
          "base_uri": "https://localhost:8080/"
        },
        "id": "UgkhcyLs_aVH",
        "outputId": "f6bde695-6544-4a99-d31d-c096b385d9fd"
      },
      "outputs": [
        {
          "output_type": "stream",
          "name": "stdout",
          "text": [
            "K-MEANS:  52295\n",
            "K-MEANS:  2513\n",
            "K-MEANS:  1659\n",
            "K-MEANS:  744\n",
            "K-MEANS:  345\n",
            "K-MEANS:  676\n",
            "K-MEANS:  897\n",
            "K-MEANS:  869\n",
            "K-MEANS:  511\n",
            "K-MEANS:  133\n",
            "K-MEANS:  217\n",
            "K-MEANS:  394\n",
            "K-MEANS:  260\n",
            "K-MEANS:  460\n",
            "K-MEANS:  255\n",
            "K-MEANS:  264\n",
            "K-MEANS:  275\n",
            "K-MEANS:  182\n",
            "K-MEANS:  267\n",
            "K-MEANS:  353\n",
            "K-MEANS:  275\n",
            "K-MEANS:  414\n",
            "K-MEANS:  426\n",
            "K-MEANS:  95\n",
            "K-MEANS:  352\n",
            "K-MEANS:  332\n",
            "K-MEANS:  224\n",
            "K-MEANS:  62\n",
            "K-MEANS:  120\n",
            "K-MEANS:  143\n",
            "K-MEANS:  88\n",
            "K-MEANS:  24\n",
            "K-MEANS:  69\n",
            "K-MEANS:  97\n",
            "K-MEANS:  23\n",
            "K-MEANS:  23\n",
            "K-MEANS:  4\n",
            "K-MEANS:  26\n",
            "K-MEANS:  30\n",
            "K-MEANS:  14\n",
            "K-MEANS:  34\n",
            "K-MEANS:  14\n",
            "K-MEANS:  5\n",
            "K-MEANS:  11\n",
            "K-MEANS:  10\n",
            "K-MEANS:  33\n",
            "K-MEANS:  1\n",
            "K-MEANS:  0\n",
            "Accuracy:  0.653\n"
          ]
        }
      ],
      "source": [
        "data_train_x = np.load('/content/drive/MyDrive/Datasets/train_images.npy').astype(float)\n",
        "data_train_y = np.load('/content/drive/MyDrive/Datasets/train_labels.npy').astype(float)\n",
        "data_test_x = np.load('/content/drive/MyDrive/Datasets/test_images.npy').astype(float)\n",
        "data_test_y = np.load('/content/drive/MyDrive/Datasets/test_labels.npy').astype(float)\n",
        "train_y = data_train_y[0:5000, 0]\n",
        "train_x = data_train_x[0:5000, 1:]\n",
        "\n",
        "test_y = data_test_y[0:1000, 0]\n",
        "test_x = data_test_x[0:1000, 1:]\n",
        "\n",
        "RBF_CLASSIFIER = RBF(train_x, train_y, test_x, test_y, num_of_classes=10,\n",
        "                     k=10, std_from_clusters=False)\n",
        "\n",
        "RBF_CLASSIFIER.fit()"
      ]
    }
  ],
  "metadata": {
    "colab": {
      "provenance": [],
      "include_colab_link": true
    },
    "kernelspec": {
      "display_name": "Python 3",
      "name": "python3"
    },
    "language_info": {
      "name": "python"
    }
  },
  "nbformat": 4,
  "nbformat_minor": 0
}